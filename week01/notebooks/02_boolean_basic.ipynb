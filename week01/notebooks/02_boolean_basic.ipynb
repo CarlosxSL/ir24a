{
 "cells": [
  {
   "cell_type": "markdown",
   "id": "3678b6ceab34c216",
   "metadata": {
    "collapsed": false
   },
   "source": [
    "# Basic Boolean Search in Documents\n",
    "\n",
    "## Objective\n",
    "Expand the simple term search functionality to include Boolean search capabilities. This will allow users to perform more complex queries by combining multiple search terms using Boolean operators.\n",
    "\n",
    "## Problem Description\n",
    "You must enhance the existing search engine from the previous exercise to support Boolean operators: AND, OR, and NOT. This will enable the retrieval of documents based on the logical relationships between multiple terms.\n",
    "\n",
    "## Requirements\n",
    "\n",
    "### Step 1: Update Data Preparation\n",
    "Ensure that the documents are still loaded and preprocessed from the previous task. The data should be clean and ready for advanced querying.\n",
    "\n",
    "### Step 2: Create an Inverted Index\n",
    "\n",
    "Create an inverted index from the documents. This index maps each word to the set of document IDs in which that word appears. This facilitates word lookup in the search process.\n",
    "\n",
    "### Step 3: Query Processing\n",
    "- **Parse the Query**: Implement a function to parse the input query to identify the terms and operators.\n",
    "- **Search Documents**: Based on the parsed query, implement the logic to retrieve and rank the documents according to the Boolean expressions.\n",
    "\n",
    "### Step 4: Displaying Results\n",
    "- **Output the Results**: Display the documents that match the query criteria. Include functionalities to handle queries that result in no matching documents.\n",
    "\n",
    "## Evaluation Criteria\n",
    "- **Correctness**: The Boolean search implementation should correctly interpret and process the queries according to the Boolean logic.\n",
    "- **Efficiency**: Consider the efficiency of your search process, especially as the complexity of queries increases.\n",
    "- **User Experience**: Ensure that the interface for inputting queries and viewing results is user-friendly.\n",
    "\n",
    "This exercise will deepen your understanding of how search engines process and respond to user queries."
   ]
  },
  {
   "cell_type": "code",
   "execution_count": 93,
   "id": "initial_id",
   "metadata": {
    "collapsed": true
   },
   "outputs": [],
   "source": [
    "import os\n",
    "import re"
   ]
  },
  {
   "cell_type": "code",
   "execution_count": 94,
   "id": "b4f65931",
   "metadata": {},
   "outputs": [],
   "source": [
    "def remove_symbols(palabra):\n",
    "    # Remove punctuation and convert to lowercase\n",
    "    return re.sub(r'[^\\w\\s]', '', palabra).lower()"
   ]
  },
  {
   "cell_type": "code",
   "execution_count": 95,
   "id": "1ca809e7",
   "metadata": {},
   "outputs": [],
   "source": [
    "def create_inverter_index(path_files):\n",
    "    # Create a dictionary to store the inverted index\n",
    "    inverted_index = {}\n",
    "    # Iterate over the files in the directory\n",
    "    for name_book in os.listdir(path_files):\n",
    "        book = os.path.join(path_files, name_book)\n",
    "        # Read the file\n",
    "        with open(book, 'r', encoding='utf-8') as f:\n",
    "            for line in f:\n",
    "                # Remove punctuation and convert to lowercase\n",
    "                line = remove_symbols(line)\n",
    "                # Split the line into words\n",
    "                words = line.split()\n",
    "                # Iterate over the words\n",
    "                for word in words:\n",
    "                    # If the word is not in the inverted index, add it\n",
    "                    if word not in inverted_index:\n",
    "                        inverted_index[word] = set()  # use a set to avoid duplicates\n",
    "                    # Add the book to the inverted index for this word\n",
    "                    inverted_index[word].add(name_book)\n",
    "    return inverted_index"
   ]
  },
  {
   "cell_type": "code",
   "execution_count": 96,
   "id": "c75d36bd",
   "metadata": {},
   "outputs": [],
   "source": [
    "def save_inverted_index(inverted_index, output_file):\n",
    "    # Save the inverted index to a file\n",
    "    with open(output_file, 'w', encoding='utf-8') as f:\n",
    "        for word, occurrences in inverted_index.items():\n",
    "            f.write(f\"{word}: {occurrences}\\n\")"
   ]
  },
  {
   "cell_type": "code",
   "execution_count": 97,
   "id": "d5ec2c5a",
   "metadata": {},
   "outputs": [],
   "source": [
    "def search_word(word, inverted_index_path):\n",
    "    # Read the inverted index\n",
    "    with open(inverted_index_path, 'r', encoding='utf-8') as f:\n",
    "        # Iterate over the lines in the file\n",
    "        for line in f:\n",
    "            # Split the line into word and ocurrences\n",
    "            word_inverted_index, ocurrences = line.split(':')\n",
    "            # If the word is the one we are looking for, return the ocurrences\n",
    "            if word_inverted_index == word:\n",
    "                return ocurrences\n",
    "    return None"
   ]
  },
  {
   "cell_type": "code",
   "execution_count": 98,
   "id": "1e246466",
   "metadata": {},
   "outputs": [],
   "source": [
    "path_files = '../data'\n",
    "path_inverted_index = '../words_index/inverted_index.txt' # Output file for the inverted index \n",
    "inverted_index = create_inverter_index(path_files)\n",
    "save_inverted_index(inverted_index, path_inverted_index)"
   ]
  },
  {
   "cell_type": "code",
   "execution_count": 102,
   "id": "055c7acf",
   "metadata": {},
   "outputs": [
    {
     "name": "stdout",
     "output_type": "stream",
     "text": [
      "The word 'Tall' appears in the following books:  {'pg48191.txt', 'pg408.txt', 'pg16389.txt', 'pg394.txt', 'pg844.txt', 'pg52882.txt', 'pg64317.txt', 'pg61419.txt', 'pg26073.txt', 'pg25344.txt', 'pg98.txt', 'pg2701.txt', 'pg2591.txt', 'pg37106.txt', 'pg1727.txt', 'pg12582.txt', 'pg21700.txt', 'pg73444.txt', 'pg996.txt', 'pg600.txt', 'pg2641.txt', 'pg120.txt', 'pg16.txt', 'pg5200.txt', 'pg67979.txt', 'pg28054.txt', 'pg45848.txt', 'pg76.txt', 'pg73448.txt', 'pg1260.txt', 'pg46.txt', 'pg1661.txt', 'pg2600.txt', 'pg6130.txt', 'pg45.txt', 'pg59468.txt', 'pg2814.txt', 'pg1342.txt', 'pg1513.txt', 'pg6761.txt', 'pg5197.txt', 'pg4085.txt', 'pg2852.txt', 'pg10676.txt', 'pg1259.txt', 'pg205.txt', 'pg43.txt', 'pg47312.txt', 'pg244.txt', 'pg74.txt', 'pg768.txt', 'pg1998.txt', 'pg84.txt', 'pg73447.txt', 'pg345.txt', 'pg41070.txt', 'pg59469.txt', 'pg2160.txt', 'pg47948.txt', 'pg2554.txt', 'pg145.txt', 'pg62119.txt', 'pg30254.txt', 'pg4300.txt', 'pg8800.txt', 'pg1184.txt', 'pg50038.txt', 'pg55.txt', 'pg18893.txt', 'pg10907.txt', 'pg174.txt', 'pg44837.txt', 'pg1400.txt', 'pg100.txt', 'pg219.txt', 'pg41445.txt', 'pg514.txt', 'pg6593.txt'}\n",
      " \n"
     ]
    }
   ],
   "source": [
    "word = input('type the word to search: ')\n",
    "word_clean = remove_symbols(word)\n",
    "result = search_word(word_clean, path_inverted_index)\n",
    "if result:\n",
    "    print(f\"The word '{word}' appears in the following books: {result} \")\n",
    "else:\n",
    "    print(f\"The word '{word}' does not appear in any book\")"
   ]
  }
 ],
 "metadata": {
  "kernelspec": {
   "display_name": "Python 3",
   "language": "python",
   "name": "python3"
  },
  "language_info": {
   "codemirror_mode": {
    "name": "ipython",
    "version": 3
   },
   "file_extension": ".py",
   "mimetype": "text/x-python",
   "name": "python",
   "nbconvert_exporter": "python",
   "pygments_lexer": "ipython3",
   "version": "3.11.3"
  }
 },
 "nbformat": 4,
 "nbformat_minor": 5
}
