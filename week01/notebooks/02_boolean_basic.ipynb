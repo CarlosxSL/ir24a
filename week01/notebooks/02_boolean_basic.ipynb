{
 "cells": [
  {
   "cell_type": "markdown",
   "id": "3678b6ceab34c216",
   "metadata": {
    "collapsed": false
   },
   "source": [
    "# Basic Boolean Search in Documents\n",
    "\n",
    "## Objective\n",
    "Expand the simple term search functionality to include Boolean search capabilities. This will allow users to perform more complex queries by combining multiple search terms using Boolean operators.\n",
    "\n",
    "## Problem Description\n",
    "You must enhance the existing search engine from the previous exercise to support Boolean operators: AND, OR, and NOT. This will enable the retrieval of documents based on the logical relationships between multiple terms.\n",
    "\n",
    "## Requirements\n",
    "\n",
    "### Step 1: Update Data Preparation\n",
    "Ensure that the documents are still loaded and preprocessed from the previous task. The data should be clean and ready for advanced querying.\n",
    "\n",
    "### Step 2: Create an Inverted Index\n",
    "\n",
    "Create an inverted index from the documents. This index maps each word to the set of document IDs in which that word appears. This facilitates word lookup in the search process.\n",
    "\n",
    "### Step 3: Query Processing\n",
    "- **Parse the Query**: Implement a function to parse the input query to identify the terms and operators.\n",
    "- **Search Documents**: Based on the parsed query, implement the logic to retrieve and rank the documents according to the Boolean expressions.\n",
    "\n",
    "### Step 4: Displaying Results\n",
    "- **Output the Results**: Display the documents that match the query criteria. Include functionalities to handle queries that result in no matching documents.\n",
    "\n",
    "## Evaluation Criteria\n",
    "- **Correctness**: The Boolean search implementation should correctly interpret and process the queries according to the Boolean logic.\n",
    "- **Efficiency**: Consider the efficiency of your search process, especially as the complexity of queries increases.\n",
    "- **User Experience**: Ensure that the interface for inputting queries and viewing results is user-friendly.\n",
    "\n",
    "This exercise will deepen your understanding of how search engines process and respond to user queries."
   ]
  },
  {
   "cell_type": "code",
   "execution_count": 21,
   "id": "initial_id",
   "metadata": {
    "collapsed": true
   },
   "outputs": [],
   "source": [
    "import os"
   ]
  },
  {
   "cell_type": "code",
   "execution_count": 22,
   "id": "d2c032e0",
   "metadata": {},
   "outputs": [],
   "source": [
    "def buscar_palabra_en_archivo(archivo, palabra):\n",
    "    with open(archivo, 'r', encoding='utf-8') as f:\n",
    "        for num_linea, linea in enumerate(f, start=1):\n",
    "            if palabra in linea:\n",
    "                return True\n",
    "    return False"
   ]
  },
  {
   "cell_type": "code",
   "execution_count": 23,
   "id": "d6e5ab5d",
   "metadata": {},
   "outputs": [],
   "source": [
    "def buscar_palabra_en_carpeta(ruta_carpeta, palabra):\n",
    "    archivos_con_palabra = []\n",
    "    for nombre_archivo in os.listdir(ruta_carpeta):\n",
    "        archivo = os.path.join(ruta_carpeta, nombre_archivo)\n",
    "        if os.path.isfile(archivo):\n",
    "            if buscar_palabra_en_archivo(archivo, palabra):\n",
    "                archivos_con_palabra.append(nombre_archivo)\n",
    "    return archivos_con_palabra"
   ]
  },
  {
   "cell_type": "code",
   "execution_count": 24,
   "id": "adaf731c",
   "metadata": {},
   "outputs": [],
   "source": [
    "carpeta = '../data'\n",
    "palabra_a_buscar = input(\"Ingrese la palabra a buscar: \")"
   ]
  },
  {
   "cell_type": "code",
   "execution_count": 25,
   "id": "e4b1d097",
   "metadata": {},
   "outputs": [
    {
     "name": "stdout",
     "output_type": "stream",
     "text": [
      "La palabra 'hola' fue encontrada en los siguientes archivos:\n",
      "- pg100.txt\n",
      "- pg10676.txt\n",
      "- pg1184.txt\n",
      "- pg120.txt\n",
      "- pg1259.txt\n",
      "- pg1260.txt\n",
      "- pg1400.txt\n",
      "- pg145.txt\n",
      "- pg1727.txt\n",
      "- pg174.txt\n",
      "- pg18893.txt\n",
      "- pg1998.txt\n",
      "- pg2000.txt\n",
      "- pg205.txt\n",
      "- pg21012.txt\n",
      "- pg2160.txt\n",
      "- pg21700.txt\n",
      "- pg25344.txt\n",
      "- pg2554.txt\n",
      "- pg2591.txt\n",
      "- pg2600.txt\n",
      "- pg26073.txt\n",
      "- pg2641.txt\n",
      "- pg2701.txt\n",
      "- pg27827.txt\n",
      "- pg28054.txt\n",
      "- pg2814.txt\n",
      "- pg2852.txt\n",
      "- pg29728.txt\n",
      "- pg30254.txt\n",
      "- pg3207.txt\n",
      "- pg345.txt\n",
      "- pg37106.txt\n",
      "- pg408.txt\n",
      "- pg4085.txt\n",
      "- pg41070.txt\n",
      "- pg41287.txt\n",
      "- pg42933.txt\n",
      "- pg4300.txt\n",
      "- pg44388.txt\n",
      "- pg44837.txt\n",
      "- pg45.txt\n",
      "- pg45540.txt\n",
      "- pg45848.txt\n",
      "- pg47312.txt\n",
      "- pg47629.txt\n",
      "- pg47948.txt\n",
      "- pg48191.txt\n",
      "- pg50038.txt\n",
      "- pg514.txt\n",
      "- pg5197.txt\n",
      "- pg52882.txt\n",
      "- pg59468.txt\n",
      "- pg59469.txt\n",
      "- pg6130.txt\n",
      "- pg61419.txt\n",
      "- pg62119.txt\n",
      "- pg64317.txt\n",
      "- pg6593.txt\n",
      "- pg6761.txt\n",
      "- pg73447.txt\n",
      "- pg73448.txt\n",
      "- pg74.txt\n",
      "- pg768.txt\n",
      "- pg844.txt\n",
      "- pg8800.txt\n",
      "- pg98.txt\n",
      "- pg996.txt\n",
      "La palabra 'hola' fue encontrada en 68 archivos:\n"
     ]
    }
   ],
   "source": [
    "archivos_encontrados = buscar_palabra_en_carpeta(carpeta, palabra_a_buscar)\n",
    "if archivos_encontrados:\n",
    "    print(f\"La palabra '{palabra_a_buscar}' fue encontrada en los siguientes archivos:\")\n",
    "    for archivo in archivos_encontrados:\n",
    "        print('-',archivo)\n",
    "    print(f\"La palabra '{palabra_a_buscar}' fue encontrada en {len(archivos_encontrados)} archivos:\")\n",
    "\n",
    "else:\n",
    "    print(f\"La palabra '{palabra_a_buscar}' no fue encontrada en ninguno de los archivos en la carpeta '{carpeta}'.\")"
   ]
  }
 ],
 "metadata": {
  "kernelspec": {
   "display_name": "Python 3",
   "language": "python",
   "name": "python3"
  },
  "language_info": {
   "codemirror_mode": {
    "name": "ipython",
    "version": 3
   },
   "file_extension": ".py",
   "mimetype": "text/x-python",
   "name": "python",
   "nbconvert_exporter": "python",
   "pygments_lexer": "ipython3",
   "version": "3.11.3"
  }
 },
 "nbformat": 4,
 "nbformat_minor": 5
}
