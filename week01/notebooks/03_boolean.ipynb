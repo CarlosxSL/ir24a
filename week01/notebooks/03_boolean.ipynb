{
 "cells": [
  {
   "cell_type": "markdown",
   "id": "3678b6ceab34c216",
   "metadata": {
    "collapsed": false
   },
   "source": [
    "# Boolean Search in Documents\n",
    "\n",
    "## Objective\n",
    "Expand the simple term search functionality to include Boolean search capabilities. This will allow users to perform more complex queries by combining multiple search terms using Boolean operators.\n",
    "\n",
    "## Problem Description\n",
    "You must enhance the existing search engine from the previous exercise to support Boolean operators: AND, OR, and NOT. This will enable the retrieval of documents based on the logical relationships between multiple terms.\n",
    "\n",
    "## Requirements\n",
    "\n",
    "### Step 1: Update Data Preparation\n",
    "Ensure that the documents are still loaded and preprocessed from the previous task. The data should be clean and ready for advanced querying.\n",
    "\n",
    "### Step 2: Create an Inverted Index\n",
    "\n",
    "Create an inverted index from the documents. This index maps each word to the set of document IDs in which that word appears. This facilitates word lookup in the search process.\n",
    "\n",
    "### Step 3: Implementing Boolean Search\n",
    "- **Enhance Input Query**: Modify the function to accept complex queries that can include the Boolean operators AND, OR, and NOT.\n",
    "- **Implement Boolean Logic**:\n",
    "  - **AND**: The document must contain all the terms. For example, `python AND programming` should return documents containing both \"python\" and \"programming\".\n",
    "  - **OR**: The document can contain any of the terms. For example, `python OR programming` should return documents containing either \"python\", \"programming\", or both.\n",
    "  - **NOT**: The document must not contain the term following NOT. For example, `python NOT snake` should return documents that contain \"python\" but not \"snake\".\n",
    "\n",
    "### Step 4: Query Processing\n",
    "- **Parse the Query**: Implement a function to parse the input query to identify the terms and operators.\n",
    "- **Search Documents**: Based on the parsed query, implement the logic to retrieve and rank the documents according to the Boolean expressions.\n",
    "- **Handling Case Sensitivity and Partial Matches**: Optionally, you can handle cases and partial matches to refine the search results.\n",
    "\n",
    "### Step 5: Displaying Results\n",
    "- **Output the Results**: Display the documents that match the query criteria. Include functionalities to handle queries that result in no matching documents.\n",
    "\n",
    "## Evaluation Criteria\n",
    "- **Correctness**: The Boolean search implementation should correctly interpret and process the queries according to the Boolean logic.\n",
    "- **Efficiency**: Consider the efficiency of your search process, especially as the complexity of queries increases.\n",
    "- **User Experience**: Ensure that the interface for inputting queries and viewing results is user-friendly.\n",
    "\n",
    "## Additional Challenges (Optional)\n",
    "- **Nested Boolean Queries**: Allow for nested queries using parentheses, such as `(python OR java) AND programming`.\n",
    "- **Phrase Searching**: Implement the ability to search for exact phrases enclosed in quotes.\n",
    "- **Proximity Searching**: Extend the search to find terms that are within a specific distance from one another.\n",
    "\n",
    "This exercise will deepen your understanding of how search engines process and respond to complex user queries. By incorporating Boolean search, you not only enhance the functionality of your search engine but also mimic more closely how real-world information retrieval systems operate.\n"
   ]
  },
  {
   "cell_type": "code",
   "execution_count": 1,
   "id": "initial_id",
   "metadata": {
    "collapsed": true
   },
   "outputs": [],
   "source": [
    "import os\n",
    "import re"
   ]
  },
  {
   "cell_type": "code",
   "execution_count": 2,
   "id": "7f22c38f",
   "metadata": {},
   "outputs": [],
   "source": [
    "def load_inverted_index(input_file):\n",
    "    inverted_index = {}\n",
    "    with open(input_file, 'r', encoding='utf-8') as f:\n",
    "        for line in f:\n",
    "            word, occurrences = line.strip().split(': ') #split the line into word and occurrences\n",
    "            occurrences = occurrences.strip('{}').replace(\"'\", \"\").split(', ')  #remove curly braces and split the occurrences\n",
    "            inverted_index[word] = set(occurrences) #add the word and its occurrences to the inverted index\n",
    "    return inverted_index"
   ]
  },
  {
   "cell_type": "code",
   "execution_count": 3,
   "id": "fe5a3407",
   "metadata": {},
   "outputs": [],
   "source": [
    "set_file = '../words_index/inverted_index.txt' #path to the inverted index file\n",
    "inverted_index = load_inverted_index(set_file) #load the inverted index"
   ]
  },
  {
   "cell_type": "code",
   "execution_count": 4,
   "id": "c47bbbfd",
   "metadata": {},
   "outputs": [],
   "source": [
    "def search_word(word):  #function to search for a word in the inverted index\n",
    "    if word in inverted_index: #check if the word is in the inverted index\n",
    "        return inverted_index[word] #return the occurrences of the word\n",
    "    else:\n",
    "        return set() #return an empty set if the word is not in the inverted index"
   ]
  },
  {
   "cell_type": "code",
   "execution_count": 5,
   "id": "84f975d0",
   "metadata": {},
   "outputs": [],
   "source": [
    "def tokenize(text):\n",
    "    return re.findall(r'\\b\\w+\\b', text.lower()) #return a list of words in the text"
   ]
  },
  {
   "cell_type": "code",
   "execution_count": 6,
   "id": "73ef0f71",
   "metadata": {},
   "outputs": [],
   "source": [
    "operators = ['and', 'or', 'not'] #list of operators\n",
    "def search_query(query): #function to search for a query\n",
    "    words = tokenize(query) #tokenize the query\n",
    "    result = None      #initialize the result\n",
    "    operator = None      #initialize the operator\n",
    "    for word in words:      #loop through the words in the query\n",
    "        if word in operators:\n",
    "            operator = word\n",
    "        else:\n",
    "            if result is None:     #check if the result is None\n",
    "                result = search_word(word)   #search for the word\n",
    "            else:\n",
    "                if operator == 'and':   #check if the operator is 'and'\n",
    "                    result = result & search_word(word)\n",
    "                elif operator == 'or':  #check if the operator is 'or'\n",
    "                    result = result | search_word(word)\n",
    "                elif operator == 'not': #check if the operator is 'not'\n",
    "                    result = result - search_word(word)\n",
    "    return result"
   ]
  },
  {
   "cell_type": "code",
   "execution_count": 13,
   "id": "1825ff8e",
   "metadata": {},
   "outputs": [
    {
     "name": "stdout",
     "output_type": "stream",
     "text": [
      "Words in the query: ['tall', 'or', 'program']\n",
      "Results {'pg408.txt', 'pg2554.txt', 'pg5197.txt', 'pg1184.txt', 'pg43.txt', 'pg73447.txt', 'pg45848.txt', 'pg1727.txt', 'pg5200.txt', 'pg6593.txt', 'pg16.txt', 'pg55.txt', 'pg145.txt', 'pg76.txt', 'pg46.txt', 'pg50038.txt', 'pg120.txt', 'pg768.txt', 'pg4085.txt', 'pg244.txt', 'pg996.txt', 'pg45.txt', 'pg18893.txt', 'pg48191.txt', 'pg37106.txt', 'pg74.txt', 'pg2641.txt', 'pg2814.txt', 'pg52882.txt', 'pg28054.txt', 'pg345.txt', 'pg98.txt', 'pg73448.txt', 'pg12582.txt', 'pg1260.txt', 'pg844.txt', 'pg1661.txt', 'pg600.txt', 'pg219.txt', 'pg30254.txt', 'pg2701.txt', 'pg67979.txt', 'pg41070.txt', 'pg100.txt', 'pg61419.txt', 'pg59468.txt', 'pg2852.txt', 'pg21700.txt', 'pg59469.txt', 'pg2160.txt', 'pg47948.txt', 'pg10676.txt', 'pg16389.txt', 'pg62119.txt', 'pg6761.txt', 'pg41445.txt', 'pg64317.txt', 'pg26073.txt', 'pg394.txt', 'pg1998.txt', 'pg73444.txt', 'pg47312.txt', 'pg2591.txt', 'pg174.txt', 'pg2600.txt', 'pg25344.txt', 'pg84.txt', 'pg10907.txt', 'pg44837.txt', 'pg8800.txt', 'pg205.txt', 'pg1400.txt', 'pg1259.txt', 'pg1342.txt', 'pg1513.txt', 'pg4300.txt', 'pg6130.txt', 'pg514.txt'}\n",
      "Results found: 78\n"
     ]
    }
   ],
   "source": [
    "query = 'tall or program'\n",
    "words = tokenize(query)\n",
    "print(\"Words in the query:\", words)\n",
    "result = search_query(query)\n",
    "\n",
    "if result:\n",
    "    print(\"Results\",result)\n",
    "    print('Results found:', len(result))\n",
    "else:\n",
    "    print('No results found')"
   ]
  }
 ],
 "metadata": {
  "kernelspec": {
   "display_name": "Python 3",
   "language": "python",
   "name": "python3"
  },
  "language_info": {
   "codemirror_mode": {
    "name": "ipython",
    "version": 3
   },
   "file_extension": ".py",
   "mimetype": "text/x-python",
   "name": "python",
   "nbconvert_exporter": "python",
   "pygments_lexer": "ipython3",
   "version": "3.8.10"
  }
 },
 "nbformat": 4,
 "nbformat_minor": 5
}
