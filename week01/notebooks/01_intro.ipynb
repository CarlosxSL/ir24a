{
 "cells": [
  {
   "cell_type": "markdown",
   "id": "87a197ffb621d407",
   "metadata": {
    "collapsed": false
   },
   "source": [
    "# Term Search in Documents\n",
    "\n",
    "## Objective\n",
    "The goal of this exercise is to develop a simple information retrieval system that allows the user to search for a specific term across a set of text documents. This will introduce you to the basics of text processing and searching algorithms in the context of information retrieval.\n",
    "\n",
    "## Problem Description\n",
    "You are provided with a set of text documents. Your task is to implement a search function that:\n",
    "- Takes a user-inputted term as the query.\n",
    "- Searches for this term across all the provided documents.\n",
    "- Returns a list of documents where the term appears.\n",
    "\n",
    "## Requirements\n",
    "\n",
    "### Step 1: Preparing the Data\n",
    "- **Load the Documents**: You will start by loading the text documents into your program. These documents can be in plain text format stored in a directory.\n",
    "- **Read Each Document**: Implement a function to read each document and store its contents in a data structure of your choice (e.g., a list).\n",
    "\n",
    "### Step 2: Implementing the Search\n",
    "- **Input Query**: Implement a function to accept a query term from the user.\n",
    "- **Search Function**: Create a function that:\n",
    "  - Iterates through each document.\n",
    "  - Checks if the query term appears in the document.\n",
    "  - You may choose to implement case-insensitive search to improve user experience.\n",
    "- **Return Results**: The function should return the names or identifiers of the documents where the term is found.\n",
    "\n",
    "### Step 3: Displaying Results\n",
    "- **Output the Results**: For each search query, output the results in a user-friendly format, listing the documents where the term was found, or a message indicating that the term does not appear in any document.\n",
    "\n",
    "## Evaluation Criteria\n",
    "- **Correctness**: The search function should accurately identify documents containing the term.\n",
    "- **Efficiency**: While efficiency may not be critical for small datasets, consider the efficiency of your search algorithm.\n",
    "- **Usability**: The interface for inputting search terms and viewing results should be clear and easy to use.\n",
    "\n",
    "## Additional Challenges (Optional)\n",
    "- **Enhance the search functionality**: Allow for more complex queries, such as phrases or multiple terms.\n",
    "- **Improve the search with regular expressions**: Use regex for pattern matching to enhance the flexibility of the search.\n",
    "- **Implement a simple ranking system**: Rank the documents based on the frequency of the term within each document.\n",
    "\n",
    "This exercise will help you understand the fundamental mechanisms behind storing and retrieving data in the field of information retrieval. By the end of this task, you will have a basic prototype that mimics core functions of larger, more complex search engines.\n"
   ]
  },
  {
   "cell_type": "code",
   "execution_count": null,
   "id": "f4e44a23",
   "metadata": {},
   "outputs": [],
   "source": [
    "import os"
   ]
  },
  {
   "cell_type": "code",
   "execution_count": null,
   "id": "33b8624a",
   "metadata": {},
   "outputs": [],
   "source": [
    "def buscar_palabra_en_archivo(archivo, palabra):\n",
    "    with open(archivo, 'r', encoding='utf-8') as f:\n",
    "        for num_linea, linea in enumerate(f, start=1):\n",
    "            if palabra in linea:\n",
    "                return True\n",
    "    return False"
   ]
  },
  {
   "cell_type": "code",
   "execution_count": null,
   "id": "d6e29d6d",
   "metadata": {},
   "outputs": [],
   "source": [
    "def buscar_palabra_en_carpeta(ruta_carpeta, palabra):\n",
    "    archivos_con_palabra = []\n",
    "    for nombre_archivo in os.listdir(ruta_carpeta):\n",
    "        archivo = os.path.join(ruta_carpeta, nombre_archivo)\n",
    "        if os.path.isfile(archivo):\n",
    "            if buscar_palabra_en_archivo(archivo, palabra):\n",
    "                archivos_con_palabra.append(nombre_archivo)\n",
    "    return archivos_con_palabra"
   ]
  },
  {
   "cell_type": "code",
   "execution_count": null,
   "id": "a3033663",
   "metadata": {},
   "outputs": [],
   "source": [
    "carpeta = '../data'\n",
    "palabra_a_buscar = input(\"Ingrese la palabra a buscar: \")"
   ]
  },
  {
   "cell_type": "code",
   "execution_count": null,
   "id": "07668bff",
   "metadata": {},
   "outputs": [
    {
     "name": "stdout",
     "output_type": "stream",
     "text": [
      "La palabra 'hola' fue encontrada en los siguientes archivos:\n",
      "- pg100.txt\n",
      "- pg10676.txt\n",
      "- pg1184.txt\n",
      "- pg120.txt\n",
      "- pg1259.txt\n",
      "- pg1260.txt\n",
      "- pg1400.txt\n",
      "- pg145.txt\n",
      "- pg1727.txt\n",
      "- pg174.txt\n",
      "- pg18893.txt\n",
      "- pg1998.txt\n",
      "- pg2000.txt\n",
      "- pg205.txt\n",
      "- pg21012.txt\n",
      "- pg2160.txt\n",
      "- pg21700.txt\n",
      "- pg25344.txt\n",
      "- pg2554.txt\n",
      "- pg2591.txt\n",
      "- pg2600.txt\n",
      "- pg26073.txt\n",
      "- pg2641.txt\n",
      "- pg2701.txt\n",
      "- pg27827.txt\n",
      "- pg28054.txt\n",
      "- pg2814.txt\n",
      "- pg2852.txt\n",
      "- pg29728.txt\n",
      "- pg30254.txt\n",
      "- pg3207.txt\n",
      "- pg345.txt\n",
      "- pg37106.txt\n",
      "- pg408.txt\n",
      "- pg4085.txt\n",
      "- pg41070.txt\n",
      "- pg41287.txt\n",
      "- pg42933.txt\n",
      "- pg4300.txt\n",
      "- pg44388.txt\n",
      "- pg44837.txt\n",
      "- pg45.txt\n",
      "- pg45540.txt\n",
      "- pg45848.txt\n",
      "- pg47312.txt\n",
      "- pg47629.txt\n",
      "- pg47948.txt\n",
      "- pg48191.txt\n",
      "- pg50038.txt\n",
      "- pg514.txt\n",
      "- pg5197.txt\n",
      "- pg52882.txt\n",
      "- pg59468.txt\n",
      "- pg59469.txt\n",
      "- pg6130.txt\n",
      "- pg61419.txt\n",
      "- pg62119.txt\n",
      "- pg64317.txt\n",
      "- pg6593.txt\n",
      "- pg6761.txt\n",
      "- pg73447.txt\n",
      "- pg73448.txt\n",
      "- pg74.txt\n",
      "- pg768.txt\n",
      "- pg844.txt\n",
      "- pg8800.txt\n",
      "- pg98.txt\n",
      "- pg996.txt\n",
      "La palabra 'hola' fue encontrada en 68 archivos:\n"
     ]
    }
   ],
   "source": [
    "archivos_encontrados = buscar_palabra_en_carpeta(carpeta, palabra_a_buscar)\n",
    "if archivos_encontrados:\n",
    "    print(f\"La palabra '{palabra_a_buscar}' fue encontrada en los siguientes archivos:\")\n",
    "    for archivo in archivos_encontrados:\n",
    "        print('-',archivo)\n",
    "    print(f\"La palabra '{palabra_a_buscar}' fue encontrada en {len(archivos_encontrados)} archivos:\")\n",
    "\n",
    "else:\n",
    "    print(f\"La palabra '{palabra_a_buscar}' no fue encontrada en ninguno de los archivos en la carpeta '{carpeta}'.\")"
   ]
  }
 ],
 "metadata": {
  "kernelspec": {
   "display_name": "Python 3",
   "language": "python",
   "name": "python3"
  },
  "language_info": {
   "codemirror_mode": {
    "name": "ipython",
    "version": 2
   },
   "file_extension": ".py",
   "mimetype": "text/x-python",
   "name": "python",
   "nbconvert_exporter": "python",
   "pygments_lexer": "ipython2",
   "version": "2.7.6"
  }
 },
 "nbformat": 4,
 "nbformat_minor": 5
}
