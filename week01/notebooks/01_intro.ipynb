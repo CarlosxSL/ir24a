{
 "cells": [
  {
   "cell_type": "markdown",
   "id": "87a197ffb621d407",
   "metadata": {
    "collapsed": false
   },
   "source": [
    "# Term Search in Documents\n",
    "\n",
    "## Objective\n",
    "The goal of this exercise is to develop a simple information retrieval system that allows the user to search for a specific term across a set of text documents. This will introduce you to the basics of text processing and searching algorithms in the context of information retrieval.\n",
    "\n",
    "## Problem Description\n",
    "You are provided with a set of text documents. Your task is to implement a search function that:\n",
    "- Takes a user-inputted term as the query.\n",
    "- Searches for this term across all the provided documents.\n",
    "- Returns a list of documents where the term appears.\n",
    "\n",
    "## Requirements\n",
    "\n",
    "### Step 1: Preparing the Data\n",
    "- **Load the Documents**: You will start by loading the text documents into your program. These documents can be in plain text format stored in a directory.\n",
    "- **Read Each Document**: Implement a function to read each document and store its contents in a data structure of your choice (e.g., a list).\n",
    "\n",
    "### Step 2: Implementing the Search\n",
    "- **Input Query**: Implement a function to accept a query term from the user.\n",
    "- **Search Function**: Create a function that:\n",
    "  - Iterates through each document.\n",
    "  - Checks if the query term appears in the document.\n",
    "  - You may choose to implement case-insensitive search to improve user experience.\n",
    "- **Return Results**: The function should return the names or identifiers of the documents where the term is found.\n",
    "\n",
    "### Step 3: Displaying Results\n",
    "- **Output the Results**: For each search query, output the results in a user-friendly format, listing the documents where the term was found, or a message indicating that the term does not appear in any document.\n",
    "\n",
    "## Evaluation Criteria\n",
    "- **Correctness**: The search function should accurately identify documents containing the term.\n",
    "- **Efficiency**: While efficiency may not be critical for small datasets, consider the efficiency of your search algorithm.\n",
    "- **Usability**: The interface for inputting search terms and viewing results should be clear and easy to use.\n",
    "\n",
    "## Additional Challenges (Optional)\n",
    "- **Enhance the search functionality**: Allow for more complex queries, such as phrases or multiple terms.\n",
    "- **Improve the search with regular expressions**: Use regex for pattern matching to enhance the flexibility of the search.\n",
    "- **Implement a simple ranking system**: Rank the documents based on the frequency of the term within each document.\n",
    "\n",
    "This exercise will help you understand the fundamental mechanisms behind storing and retrieving data in the field of information retrieval. By the end of this task, you will have a basic prototype that mimics core functions of larger, more complex search engines.\n"
   ]
  },
  {
   "cell_type": "code",
   "execution_count": 1,
   "id": "f4e44a23",
   "metadata": {},
   "outputs": [],
   "source": [
    "import os"
   ]
  },
  {
   "cell_type": "code",
   "execution_count": 2,
   "id": "33b8624a",
   "metadata": {},
   "outputs": [],
   "source": [
    "def search_word(book, word):\n",
    "    with open(book, 'r', encoding='utf-8') as f:\n",
    "        for num_linea, linea in enumerate(f, start=1):\n",
    "            if word in linea:\n",
    "                return True\n",
    "    return False"
   ]
  },
  {
   "cell_type": "code",
   "execution_count": 3,
   "id": "d6e29d6d",
   "metadata": {},
   "outputs": [],
   "source": [
    "def look_books(path_folder, word):\n",
    "    books_search = []\n",
    "    for name_book in os.listdir(path_folder):\n",
    "        book = os.path.join(path_folder, name_book)\n",
    "        if os.path.isfile(book):\n",
    "            if search_word(book, word):\n",
    "                books_search.append(name_book)\n",
    "    return books_search"
   ]
  },
  {
   "cell_type": "code",
   "execution_count": 4,
   "id": "a3033663",
   "metadata": {},
   "outputs": [],
   "source": [
    "path_folder = '../data'\n",
    "word = input(\"Type word to search: \")"
   ]
  },
  {
   "cell_type": "code",
   "execution_count": 5,
   "id": "07668bff",
   "metadata": {},
   "outputs": [
    {
     "name": "stdout",
     "output_type": "stream",
     "text": [
      "Books that contain 'hello' :\n",
      "- pg100.txt\n",
      "- pg1184.txt\n",
      "- pg18893.txt\n",
      "- pg28054.txt\n",
      "- pg4300.txt\n",
      "- pg45848.txt\n",
      "- pg5197.txt\n",
      "- pg62119.txt\n",
      "- pg64317.txt\n",
      "- pg6593.txt\n",
      "The word 'hello' was found in 10 books\n"
     ]
    }
   ],
   "source": [
    "result_books = look_books(path_folder, word)\n",
    "if result_books:\n",
    "    print(f\"Books that contain '{word}' :\")\n",
    "    for file in result_books:\n",
    "        print('-',file)\n",
    "    print(f\"The word '{word}' was found in {len(result_books)} books\")\n",
    "\n",
    "else:\n",
    "    print(f\"The word '{word}' was not found'{path_folder}'.\")"
   ]
  }
 ],
 "metadata": {
  "kernelspec": {
   "display_name": "Python 3",
   "language": "python",
   "name": "python3"
  },
  "language_info": {
   "codemirror_mode": {
    "name": "ipython",
    "version": 3
   },
   "file_extension": ".py",
   "mimetype": "text/x-python",
   "name": "python",
   "nbconvert_exporter": "python",
   "pygments_lexer": "ipython3",
   "version": "3.11.3"
  }
 },
 "nbformat": 4,
 "nbformat_minor": 5
}
